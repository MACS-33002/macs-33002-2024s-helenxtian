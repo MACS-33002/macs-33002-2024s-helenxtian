version https://git-lfs.github.com/spec/v1
oid sha256:7c6c6ee6a4eaa4455526a4c9331b63dbc1c3c03ce601702287f5a13fac631dcc
size 12453078
