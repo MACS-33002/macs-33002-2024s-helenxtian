version https://git-lfs.github.com/spec/v1
oid sha256:17577890f3742a4117d019762da51ba3fcbcc16cdc0e158bf802cfdabc3c9c0c
size 12611332
