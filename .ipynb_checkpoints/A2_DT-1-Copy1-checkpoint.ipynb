version https://git-lfs.github.com/spec/v1
oid sha256:ef89f811da5e5cc2c83c72e522a3fa55c821993117fa2e644c6748aa1a1b1a48
size 10969040
