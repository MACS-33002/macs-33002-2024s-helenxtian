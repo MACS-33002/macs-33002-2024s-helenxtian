version https://git-lfs.github.com/spec/v1
oid sha256:07de02eb7f3d187e66ed1e5d0704c4015355acc1945b7474e48cf94bc68ec2c9
size 1396111
