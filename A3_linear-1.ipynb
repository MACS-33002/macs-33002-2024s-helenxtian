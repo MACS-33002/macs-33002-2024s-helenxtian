version https://git-lfs.github.com/spec/v1
oid sha256:1bcfff6145e0e125e96a9f6dcedfadb70a2b40dda0c2cd18ebf894d67baa1dad
size 15469093
